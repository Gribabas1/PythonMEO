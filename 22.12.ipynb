{
 "cells": [
  {
   "cell_type": "code",
   "execution_count": 34,
   "metadata": {},
   "outputs": [],
   "source": [
    "import sqlite3\n",
    "db = sqlite3.connect('users.db')\n",
    "cur = db.cursor()\n"
   ]
  },
  {
   "cell_type": "code",
   "execution_count": 35,
   "metadata": {},
   "outputs": [],
   "source": [
    "cur.execute('CREATE TABLE IF NOT EXISTS users(id_user INTEGER NOT NULL PRIMARY KEY, e_mail TEXT NOT NULL, password TEXT NOT NULL);')\n",
    "\n",
    "db.commit()"
   ]
  },
  {
   "cell_type": "code",
   "execution_count": 36,
   "metadata": {},
   "outputs": [],
   "source": [
    "cur.execute(\"INSERT INTO users (id_user,e_mail,password) VALUES (6,'user_on1@gmail.ru','pass23123')\")\n",
    "\n",
    "db.commit()"
   ]
  },
  {
   "cell_type": "code",
   "execution_count": 37,
   "metadata": {},
   "outputs": [],
   "source": [
    "user_data = (7,\"user_on2@gmail.ru\",\"pass24123\")\n",
    "cur.execute(\"INSERT INTO users (id_user, e_mail, password) VALUES (?,?,?)\",user_data)\n",
    "db.commit()"
   ]
  },
  {
   "cell_type": "code",
   "execution_count": 46,
   "metadata": {},
   "outputs": [],
   "source": [
    "new_email = \"krrgfwheher@mail.ru\"\n",
    "new_password = \"kwjdwo\"\n",
    "user_id = 2\n",
    "\n",
    "cur.execute(\"UPDATE users SET e_mail = ?, password = ? WHERE id_user = ?\",(new_email,new_password,user_id))\n",
    "\n",
    "db.commit()"
   ]
  },
  {
   "cell_type": "code",
   "execution_count": 40,
   "metadata": {},
   "outputs": [],
   "source": [
    "new_email = \"AAAAAA@mail.ru\"\n",
    "new_password = \"BABABAB\"\n",
    "user_id = 7\n",
    "cur.execute(f'UPDATE users SET e_mail = \"{new_email}\", password = \"{new_password}\" WHERE id_user = {user_id}')\n",
    "db.commit()"
   ]
  },
  {
   "cell_type": "code",
   "execution_count": 41,
   "metadata": {},
   "outputs": [
    {
     "name": "stdout",
     "output_type": "stream",
     "text": [
      "('user_on1@gmail.ru', 'pass23123')\n"
     ]
    }
   ],
   "source": [
    "cur.execute(\"SELECT e_mail, password FROM users WHERE id_user = 1\")\n",
    "user = cur.fetchone()\n",
    "print(user)"
   ]
  },
  {
   "cell_type": "code",
   "execution_count": 48,
   "metadata": {},
   "outputs": [],
   "source": [
    "def create_users():\n",
    "    mail = input('Введите свой адрес электронной почты: ')\n",
    "    password = input (\"Введите надежный пароль: \")\n",
    "\n",
    "    last_id = cur.execute('SELECT MAX ( id_user) FROM users').fetchone()\n",
    "\n",
    "    if last_id[0] == None:\n",
    "        unique_id = 1\n",
    "    else:\n",
    "        unique_id = last_id[0] + 1\n",
    "\n",
    "    cur.execute(f'INSERT INTO users VALUES({unique_id}, \"{mail}\", \"{password}\")')\n",
    "    db.commit"
   ]
  },
  {
   "cell_type": "code",
   "execution_count": null,
   "metadata": {},
   "outputs": [],
   "source": [
    "create_users()"
   ]
  }
 ],
 "metadata": {
  "interpreter": {
   "hash": "b693ada044d7b2d3ce501a24bc2ad51284f4a56ab9f0d91eab537fe7c1d58f20"
  },
  "kernelspec": {
   "display_name": "Python 3.9.4 64-bit",
   "language": "python",
   "name": "python3"
  },
  "language_info": {
   "codemirror_mode": {
    "name": "ipython",
    "version": 3
   },
   "file_extension": ".py",
   "mimetype": "text/x-python",
   "name": "python",
   "nbconvert_exporter": "python",
   "pygments_lexer": "ipython3",
   "version": "3.9.4"
  },
  "orig_nbformat": 4
 },
 "nbformat": 4,
 "nbformat_minor": 2
}
