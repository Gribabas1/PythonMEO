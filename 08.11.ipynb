{
 "cells": [
  {
   "cell_type": "code",
   "execution_count": 6,
   "metadata": {},
   "outputs": [
    {
     "name": "stdout",
     "output_type": "stream",
     "text": [
      "['Петя', 'Вася', 'Ваня']\n"
     ]
    }
   ],
   "source": [
    "names = [\"Егор\",\"Ваня\",\"Петя\",\"Дима\"]\n",
    "names. pop()\n",
    "names.reverse()\n",
    "names.pop()\n",
    "names.insert(1,\"Вася\")\n",
    "print(names)"
   ]
  },
  {
   "cell_type": "code",
   "execution_count": 11,
   "metadata": {},
   "outputs": [],
   "source": [
    "def middle_inst(array_list,element):\n",
    "    x = len(array_list)\n",
    "    if x%2 != 0:\n",
    "        print(\"Массив нечетный\")\n",
    "        return 0 \n",
    "\n",
    "    y = int(x/2)\n",
    "    y = x//2\n",
    "    array_list.insert(y,element)\n",
    "    return array_list"
   ]
  },
  {
   "cell_type": "code",
   "execution_count": 9,
   "metadata": {},
   "outputs": [
    {
     "name": "stdout",
     "output_type": "stream",
     "text": [
      "['Вупсень', 'Дом', 'Пупсень']\n",
      "['Вупсень', 'Дом', 'Пупсень']\n"
     ]
    }
   ],
   "source": [
    "arr = [\"Вупсень\",\"Пупсень\"]\n",
    "print(middle_inst(arr,\"Дом\"))\n",
    "print(middle_inst([\"Вупсень\",\"Пупсень\"],\"Дом\"))\n"
   ]
  },
  {
   "cell_type": "code",
   "execution_count": 10,
   "metadata": {},
   "outputs": [
    {
     "name": "stdout",
     "output_type": "stream",
     "text": [
      "g\n"
     ]
    }
   ],
   "source": [
    "y = 'long long string'\n",
    "print(y[3])"
   ]
  },
  {
   "cell_type": "code",
   "execution_count": 12,
   "metadata": {},
   "outputs": [
    {
     "name": "stdout",
     "output_type": "stream",
     "text": [
      "lo\n"
     ]
    }
   ],
   "source": [
    "y = 'long long string'\n",
    "print(y[5:7])"
   ]
  },
  {
   "cell_type": "code",
   "execution_count": 13,
   "metadata": {},
   "outputs": [
    {
     "data": {
      "text/plain": [
       "True"
      ]
     },
     "execution_count": 13,
     "metadata": {},
     "output_type": "execute_result"
    }
   ],
   "source": [
    "(3 > 5) or (6 == 6)"
   ]
  },
  {
   "cell_type": "code",
   "execution_count": 14,
   "metadata": {},
   "outputs": [
    {
     "name": "stdout",
     "output_type": "stream",
     "text": [
      "3\n"
     ]
    }
   ],
   "source": [
    "tup = (6, 7, 8, 0, 4, 1)\n",
    "print(tup.index(0))"
   ]
  }
 ],
 "metadata": {
  "interpreter": {
   "hash": "b693ada044d7b2d3ce501a24bc2ad51284f4a56ab9f0d91eab537fe7c1d58f20"
  },
  "kernelspec": {
   "display_name": "Python 3.9.4 64-bit",
   "language": "python",
   "name": "python3"
  },
  "language_info": {
   "codemirror_mode": {
    "name": "ipython",
    "version": 3
   },
   "file_extension": ".py",
   "mimetype": "text/x-python",
   "name": "python",
   "nbconvert_exporter": "python",
   "pygments_lexer": "ipython3",
   "version": "3.9.4"
  },
  "orig_nbformat": 4
 },
 "nbformat": 4,
 "nbformat_minor": 2
}
