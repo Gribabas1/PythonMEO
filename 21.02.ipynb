{
 "cells": [
  {
   "cell_type": "code",
   "execution_count": 3,
   "metadata": {},
   "outputs": [],
   "source": [
    "import numpy as np\n",
    "import tensorflow as tf\n",
    "from tensorflow.keras.datasets import fashion_mnist\n",
    "from tensorflow.keras.utils import to_categorical\n",
    "\n",
    "(x_train, y_train),(x_test, y_test) = fashion_mnist.load_data()\n",
    "\n",
    "y_train = to_categorical(y_train, num_classes=10)\n",
    "y_test = to_categorical(y_test, num_classes=10)\n",
    "\n",
    "x_train = x_train.astype('float32')/255.0\n",
    "x_test = x_test.astype('float32')/255.0\n",
    "\n",
    "x_train = np.expand_dims(x_train, -1)\n",
    "x_test = np.expand_dims(x_test, -1)"
   ]
  },
  {
   "cell_type": "code",
   "execution_count": 4,
   "metadata": {},
   "outputs": [],
   "source": [
    "from tensorflow.keras.models import Sequential\n",
    "from tensorflow.keras.layers import Conv2D, MaxPooling2D, Dropout, Flatten, Dense\n",
    "model = Sequential()\n",
    "model.add(Conv2D(32, kernel_size=(3, 3), activation='relu', input_shape=(28, 28, 1)))\n",
    "model.add(MaxPooling2D(pool_size=(2, 2)))\n",
    "model.add(Dropout(0.25))\n",
    "model.add(Flatten())\n",
    "model.add(Dense(128, activation='relu'))\n",
    "model.add(Dropout(0.5))\n",
    "model.add(Dense(10, activation='softmax'))"
   ]
  },
  {
   "cell_type": "code",
   "execution_count": 5,
   "metadata": {},
   "outputs": [],
   "source": [
    "optimizer= 'adam'\n",
    "loss = 'categorical_crossentropy'\n",
    "metrics = ['accuracy']\n",
    "model.compile(optimizer=optimizer, loss=loss, metrics=metrics)"
   ]
  },
  {
   "cell_type": "code",
   "execution_count": 7,
   "metadata": {},
   "outputs": [
    {
     "name": "stdout",
     "output_type": "stream",
     "text": [
      "Epoch 1/10\n",
      "469/469 [==============================] - 54s 115ms/step - loss: 0.4037 - accuracy: 0.8582\n",
      "Epoch 2/10\n",
      "469/469 [==============================] - 54s 115ms/step - loss: 0.3472 - accuracy: 0.8759\n",
      "Epoch 3/10\n",
      "469/469 [==============================] - 54s 115ms/step - loss: 0.3206 - accuracy: 0.8862\n",
      "Epoch 4/10\n",
      "469/469 [==============================] - 53s 113ms/step - loss: 0.2994 - accuracy: 0.8928\n",
      "Epoch 5/10\n",
      "469/469 [==============================] - 54s 116ms/step - loss: 0.2818 - accuracy: 0.8974\n",
      "Epoch 6/10\n",
      "469/469 [==============================] - 54s 115ms/step - loss: 0.2716 - accuracy: 0.9011\n",
      "Epoch 7/10\n",
      "469/469 [==============================] - 54s 114ms/step - loss: 0.2602 - accuracy: 0.9052\n",
      "Epoch 8/10\n",
      "469/469 [==============================] - 53s 113ms/step - loss: 0.2501 - accuracy: 0.9096\n",
      "Epoch 9/10\n",
      "469/469 [==============================] - 53s 113ms/step - loss: 0.2397 - accuracy: 0.9115\n",
      "Epoch 10/10\n",
      "469/469 [==============================] - 54s 116ms/step - loss: 0.2326 - accuracy: 0.9154\n"
     ]
    }
   ],
   "source": [
    "epochs = 10\n",
    "batch_size = 128\n",
    "history = model.fit(x_train, y_train, batch_size=batch_size, epochs=epochs)"
   ]
  },
  {
   "cell_type": "code",
   "execution_count": 8,
   "metadata": {},
   "outputs": [
    {
     "name": "stdout",
     "output_type": "stream",
     "text": [
      "313/313 [==============================] - 4s 12ms/step - loss: 0.2563 - accuracy: 0.9059\n",
      "Точность на тестовых данных: 0.9059000015258789\n"
     ]
    }
   ],
   "source": [
    "test_loss, test_accuracy = model.evaluate(x_test, y_test)\n",
    "print(f'Точность на тестовых данных: {test_accuracy}')"
   ]
  },
  {
   "cell_type": "code",
   "execution_count": 9,
   "metadata": {},
   "outputs": [
    {
     "name": "stdout",
     "output_type": "stream",
     "text": [
      "313/313 [==============================] - 4s 11ms/step\n"
     ]
    }
   ],
   "source": [
    "pred = model.predict(x_test)"
   ]
  },
  {
   "cell_type": "code",
   "execution_count": null,
   "metadata": {},
   "outputs": [
    {
     "data": {
      "text/plain": [
       "<matplotlib.image.AxesImage at 0x29d0c7e1d30>"
      ]
     },
     "execution_count": 19,
     "metadata": {},
     "output_type": "execute_result"
    },
    {
     "data": {
      "image/png": "[encoded data removed]",
      "text/plain": [
       "<Figure size 640x480 with 1 Axes>"
      ]
     },
     "metadata": {},
     "output_type": "display_data"
    }
   ],
   "source": [
    "# import matplotlib.pyplot as plt\n",
    "# plt.imshow(x_test[666])"
   ]
  },
  {
   "cell_type": "code",
   "execution_count": null,
   "metadata": {},
   "outputs": [
    {
     "data": {
      "text/plain": [
       "array([1.0361419e-05, 2.7017186e-06, 3.5643629e-07, 9.9998319e-01,\n",
       "       1.9937939e-07, 3.1744238e-09, 3.0135566e-06, 1.6023677e-10,\n",
       "       6.0896070e-08, 1.1649044e-09], dtype=float32)"
      ]
     },
     "execution_count": 20,
     "metadata": {},
     "output_type": "execute_result"
    }
   ],
   "source": [
    "pred[666]"
   ]
  },
  {
   "cell_type": "code",
   "execution_count": 11,
   "metadata": {},
   "outputs": [],
   "source": [
    "import numpy as np\n",
    "classes=['Футболка/топ',\n",
    "         'Брюки',\n",
    "         'Пуловер',\n",
    "         'Платье',\n",
    "         'Пальто',\n",
    "         'Сандали',\n",
    "         'Рубашка',\n",
    "         'КРоссовки',\n",
    "         'Сумка',\n",
    "         'Ботинки',]\n",
    "\n",
    "for n in range(0, 9999):\n",
    "    if pred_indexes != test_indexes:\n",
    "        print(n)"
   ]
  }
 ],
 "metadata": {
  "interpreter": {
   "hash": "b693ada044d7b2d3ce501a24bc2ad51284f4a56ab9f0d91eab537fe7c1d58f20"
  },
  "kernelspec": {
   "display_name": "Python 3.9.4 64-bit",
   "language": "python",
   "name": "python3"
  },
  "language_info": {
   "codemirror_mode": {
    "name": "ipython",
    "version": 3
   },
   "file_extension": ".py",
   "mimetype": "text/x-python",
   "name": "python",
   "nbconvert_exporter": "python",
   "pygments_lexer": "ipython3",
   "version": "3.9.4"
  },
  "orig_nbformat": 4
 },
 "nbformat": 4,
 "nbformat_minor": 2
}
